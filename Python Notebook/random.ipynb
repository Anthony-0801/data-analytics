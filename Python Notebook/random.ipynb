{
 "cells": [
  {
   "cell_type": "code",
   "execution_count": null,
   "id": "302cd8bf",
   "metadata": {},
   "outputs": [
    {
     "ename": "",
     "evalue": "",
     "output_type": "error",
     "traceback": [
      "\u001b[1;31mRunning cells with 'Python 3.12.3' requires the ipykernel package.\n",
      "\u001b[1;31mRun the following command to install 'ipykernel' into the Python environment. \n",
      "\u001b[1;31mCommand: 'c:/Python312/python.exe -m pip install ipykernel -U --user --force-reinstall'"
     ]
    }
   ],
   "source": [
    "#Anthony\n",
    "#THINK\n",
    "#A. Try to fix the following code to print out the correct string\n",
    "s = \"Hey there! what should this string be?\"\n",
    "# Length should be 20\n",
    "print(\"Length of s = %d\" % len(s))\n",
    "# First occurrence of \"a\" should be at index 8\n",
    "print(\"The first occurrence of the letter a = %d\" % s.index(\"a\"))\n",
    "# Number of a's should be 2\n",
    "print(\"a occurs %d times\" % s.count(\"a\"))\n",
    "# Slicing the string into bits\n",
    "print(\"The first five characters are '%s'\" % s[:5]) # Start to 5\n",
    "print(\"The next five characters are '%s'\" % s[5:10]) # 5 to 10\n",
    "print(\"The thirteenth character is '%s'\" % s[12]) # Just number 12\n",
    "print(\"The characters with odd index are '%s'\" %s[1::2]) #(0-basedindexing)\n",
    "print(\"The last five characters are '%s'\" % s[-5:]) # 5th-from-last toend\n",
    "# Convert everything to uppercase\n",
    "print(\"String in uppercase: %s\" % s.upper())\n",
    "# Convert everything to lowercase\n",
    "print(\"String in lowercase: %s\" % s.lower())\n",
    "# Check how a string starts\n",
    "if s.startswith(\"Str\"):print(\"String starts with 'Str'. Good!\")\n",
    "# Check how a string ends\n",
    "if s.endswith(\"ome!\"):print(\"String ends with 'ome!'. Good!\")\n",
    "# Split the string into three separate strings,\n",
    "# each containing only a word\n",
    "print(\"Split the words of the string: %s\" % s.split(\" \"))"
   ]
  },
  {
   "cell_type": "code",
   "execution_count": 2,
   "id": "e3ccebd4",
   "metadata": {},
   "outputs": [
    {
     "name": "stdout",
     "output_type": "stream",
     "text": [
      "Even number in the list not exceeding #237 [236, 236, 162, 104, 58, 24, 126]\n"
     ]
    }
   ],
   "source": [
    "#THINK\n",
    "#A. Loop through and print out all even numbers from the numbers list in the same order they are received. Don't print any numbers that come after 237 in the sequence.\n",
    "numbers = [\n",
    "951, 402, 984, 651, 360, 69, 408, 319, 601, 485, 980, 507, 725, 547, 544,\n",
    "615, 83, 165, 141, 501, 263, 617, 865, 575, 219, 390, 984, 592, 236, 105,\n",
    "942, 941,\n",
    "386, 462, 47, 418, 907, 344, 236, 375, 823, 566, 597, 978, 328, 615, 953,\n",
    "345,\n",
    "399, 162, 758, 219, 918, 237, 412, 566, 826, 248, 866, 950, 626, 949, 687,\n",
    "217,\n",
    "815, 67, 104, 58, 512, 24, 892, 894, 767, 553, 81, 379, 843, 831, 445, 742,\n",
    "717,\n",
    "958, 609, 842, 451, 688, 753, 854, 685, 93, 857, 440, 380, 126, 721, 328,\n",
    "753, 470,\n",
    "743, 527\n",
    "]\n",
    "\n",
    "even =list(filter(lambda x: (x % 2 == 0 and x<=237),numbers))\n",
    "print(\"Even number in the list not exceeding #237\",even)"
   ]
  },
  {
   "cell_type": "code",
   "execution_count": 36,
   "id": "33f44f35",
   "metadata": {},
   "outputs": [
    {
     "name": "stdout",
     "output_type": "stream",
     "text": [
      "Enter a number: 4\n",
      "Enter another number: 2\n",
      "The product is:  8\n",
      "The sum is:  6\n",
      "Sum-Product = -2\n"
     ]
    }
   ],
   "source": [
    "#THINK\n",
    "#1. Write a function named getProduct(num1,num2) that returns the product of 2 numbers.\n",
    "def getProduct(num1,num2):\n",
    "    product = num1*num2\n",
    "    return product\n",
    "\n",
    "a=(int(input(\"Enter a number: \")))\n",
    "b=(int(input(\"Enter another number: \")))\n",
    "\n",
    "#print(\"The product is:\", getProduct(a,b))\n",
    "#2. Add a function named getSum(num1,num2) that returns the sum of 2 numbers.\n",
    "def getSum(num1,num2):\n",
    "    Sum = num1+num2\n",
    "    return Sum\n",
    "\n",
    "\n",
    "#3.Write another function named combined_operations() that returns the final value of the 2 operations. \n",
    "#The function will call the getProduct and store the result to ans1. \n",
    "#It will also call getSum and store the value to ans2. \n",
    "# value of ans2 will be subtracted to ans1 and will be the return value of the function.\n",
    "def combined_operations():\n",
    "    return ans2-ans1\n",
    "ans1=getProduct(a,b)\n",
    "ans2=getSum(a,b)\n",
    "print(\"The product is: \", ans1)\n",
    "print(\"The sum is: \", ans2)\n",
    "print(\"Sum-Product =\",combined_operations()) "
   ]
  },
  {
   "cell_type": "code",
   "execution_count": 48,
   "id": "3019e0dd",
   "metadata": {},
   "outputs": [
    {
     "name": "stdout",
     "output_type": "stream",
     "text": [
      "John Paul is a 3rd Year BSEed student with a weekly allowance of $750.00.\n",
      "Jose Pidal is a 2nd Year BSIT student with a weekly allowance of $5000.00.\n"
     ]
    }
   ],
   "source": [
    "#LEARNING ACTIVITY\n",
    "#Code below defines students class. Create 2 new objects stud1 and stud2. \n",
    "#Set stud1 to be “John Paul” and the course is “BSEed” 3rd Year students with weekly allowance of 750. \n",
    "#Stud2 is BSIT 2nd yearstudent named “Jose Pidal” with weekly allowance of 5000.\n",
    "\n",
    "class Student:\n",
    "    def __init__(self, name, course, year_level, weekly_allowance):\n",
    "        self.name = name\n",
    "        self.course = course\n",
    "        self.year_level = year_level\n",
    "        self.weekly_allowance = weekly_allowance\n",
    "\n",
    "    def description(self):\n",
    "        desc_str = \"%s is a %s %s student with a weekly allowance of $%.2f.\" % (self.name, self.year_level, self.course, self.weekly_allowance)\n",
    "        return desc_str\n",
    "\n",
    "\n",
    "stud1 = Student(\"John Paul\", \"BSEed\", \"3rd Year\", 750)\n",
    "\n",
    "\n",
    "stud2 = Student(\"Jose Pidal\", \"BSIT\", \"2nd Year\", 5000)\n",
    "\n",
    "\n",
    "print(stud1.description())\n",
    "print(stud2.description())"
   ]
  },
  {
   "cell_type": "code",
   "execution_count": 50,
   "id": "318297bf",
   "metadata": {},
   "outputs": [
    {
     "name": "stdout",
     "output_type": "stream",
     "text": [
      "Ant\n",
      "Ail\n",
      "Adr\n",
      "Ari\n",
      "Agu\n",
      "Leo\n",
      "Bro\n",
      "Bla\n",
      "Min\n",
      "Meo\n"
     ]
    }
   ],
   "source": [
    "#Create a list containing names of students(at least 10). \n",
    "#Write a python function that reads the list and displays the first 3 letters of the name in the list\n",
    "student_names = [\"Anthony\", \"John\", \"Anne\", \"Layla\", \"Fredrinn\", \"Dominic\", \"Kyrie\", \"Blackie\", \"Mingming\", \"Meow-meow\"]\n",
    "\n",
    "def display_first_three_letters(names_list):\n",
    "    for name in names_list:\n",
    "        print(name[:3])\n",
    "\n",
    "display_first_three_letters(student_names)"
   ]
  },
  {
   "cell_type": "code",
   "execution_count": null,
   "id": "d0898eb3",
   "metadata": {},
   "outputs": [],
   "source": []
  }
 ],
 "metadata": {
  "kernelspec": {
   "display_name": "Python 3 (ipykernel)",
   "language": "python",
   "name": "python3"
  },
  "language_info": {
   "codemirror_mode": {
    "name": "ipython",
    "version": 3
   },
   "file_extension": ".py",
   "mimetype": "text/x-python",
   "name": "python",
   "nbconvert_exporter": "python",
   "pygments_lexer": "ipython3",
   "version": "3.12.3"
  }
 },
 "nbformat": 4,
 "nbformat_minor": 5
}
